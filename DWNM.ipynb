{
 "cells": [
  {
   "cell_type": "code",
   "execution_count": 1,
   "id": "2e1b4ce6",
   "metadata": {},
   "outputs": [],
   "source": [
    "import numpy as np\n",
    "import matplotlib.pyplot as plt\n",
    "import pandas as pd\n",
    "import scipy.special\n",
    "import math"
   ]
  },
  {
   "cell_type": "code",
   "execution_count": 2,
   "id": "f2346ab9",
   "metadata": {},
   "outputs": [],
   "source": [
    "L = 25\n",
    "alpha = 5\n",
    "r = 10\n",
    "z = 1\n",
    "\n",
    "n_range = np.arange(0, 2000)\n",
    "omega_imag = (-1j * 2 * np.pi / 1000)"
   ]
  },
  {
   "cell_type": "code",
   "execution_count": 3,
   "id": "424215cb",
   "metadata": {},
   "outputs": [],
   "source": [
    "### (離散化) ###\n",
    "omega_s = 5000 # サンプリングレート \n",
    "t_fin = 20 # 終了時刻 [s] \n",
    "dt = 1/omega_s # サンプリング周期 dt[s]\n",
    "N = int(omega_s * t_fin) # サンプル数 \n",
    "\n",
    "omegas = np.fft.fftfreq(N, d=dt) # 周波数を割り当てる\n",
    "t = np.arange(0, t_fin, dt)"
   ]
  },
  {
   "cell_type": "code",
   "execution_count": 4,
   "id": "c0514d66",
   "metadata": {},
   "outputs": [],
   "source": [
    "omegas = np.fft.fftshift(omegas) #すべて虚部が負"
   ]
  },
  {
   "cell_type": "code",
   "execution_count": 26,
   "id": "3c9f910d",
   "metadata": {},
   "outputs": [],
   "source": [
    "test = np.array(omegas)+omega_imag\n",
    "for te in test:\n",
    "    if np.imag(te) > 0:\n",
    "        print(\"error may happen\")"
   ]
  },
  {
   "cell_type": "code",
   "execution_count": null,
   "id": "94439e9e",
   "metadata": {},
   "outputs": [],
   "source": [
    "for omega in omegas:\n",
    "    for n in n_range:\n",
    "                k = 2 * n * np.pi / L\n",
    "                nu = np.sqrt((omega / alpha) ** 2 - k ** 2)\n",
    "                if(np.imag(nu) > 0):\n",
    "                    print(\"error may happen\")\n",
    "#omegaの実部が負だと虚部が正になる"
   ]
  },
  {
   "cell_type": "code",
   "execution_count": 20,
   "id": "841a2623",
   "metadata": {},
   "outputs": [],
   "source": [
    "for omega in omegas:\n",
    "    if np.imag(omega) >= 0:\n",
    "        print(\"this is a cause\")"
   ]
  },
  {
   "cell_type": "code",
   "execution_count": 6,
   "id": "356ce9ce",
   "metadata": {},
   "outputs": [],
   "source": [
    "#condition\n",
    "cond = np.sqrt((L - r)**2 + z**2) - alpha * t\n",
    "ans = 0\n",
    "for i, cond_i in enumerate(cond):\n",
    "    if cond_i >= 0:\n",
    "        ans = t[i]"
   ]
  },
  {
   "cell_type": "code",
   "execution_count": 34,
   "id": "ec3876fe",
   "metadata": {},
   "outputs": [],
   "source": [
    "omegas =  np.array(omegas)+omega_imag\n",
    "def u_values_omega_domain(omegas):\n",
    "    u_values = []\n",
    "    for omega in omegas:\n",
    "        u_sum = 0j\n",
    "        for n in n_range:\n",
    "            k = 2 * n * np.pi / L\n",
    "            nu = np.sqrt((omega / alpha) ** 2 - k ** 2) if np.imag(np.sqrt((omega / alpha) ** 2 - k ** 2)) < 0 else  -1*np.sqrt((omega / alpha) ** 2 - k ** 2)\n",
    "            if(np.imag(nu) > 0):\n",
    "                print(\"this is error\")\n",
    "                break\n",
    "            if n == 0:\n",
    "                u_sum += (1j * np.pi / L) * (k ** 2 / nu) * scipy.special.jv(1, k * r) * np.exp(-1j * nu * np.abs(z))\n",
    "            else:\n",
    "                u_sum += (2 * (1j * np.pi / L) * (k ** 2 / nu) * scipy.special.jv(1, k * r) * np.exp(-1j * nu * np.abs(z)))\n",
    "        u_values.append(u_sum)\n",
    "    return np.array(u_values)"
   ]
  },
  {
   "cell_type": "code",
   "execution_count": 35,
   "id": "4cf16cb7",
   "metadata": {},
   "outputs": [],
   "source": [
    "omegas =  np.array(omegas)+ omega_imag   #care N = len(u_omega)\n",
    "def phi_values_omega_domain(omegas):\n",
    "    u_values = []\n",
    "    for omega in omegas:\n",
    "        u_sum = 0j\n",
    "        for n in n_range:\n",
    "            k = 2 * n * np.pi / L\n",
    "            nu = np.sqrt((omega / alpha) ** 2 - k ** 2) if np.imag(np.sqrt((omega / alpha) ** 2 - k ** 2)) < 0 else  -1*np.sqrt((omega / alpha) ** 2 - k ** 2)\n",
    "            if(np.imag(nu) > 0):\n",
    "                print(\"this is error\")\n",
    "                break\n",
    "            if n == 0:\n",
    "                u_sum += (-1j * np.pi / L) * (k / nu) * scipy.special.jv(0, k * r) * np.exp(-1j * nu * np.abs(z))\n",
    "            else:\n",
    "                u_sum += (2 * (-1j * np.pi / L) * (k / nu) * scipy.special.jv(0, k * r) * np.exp(-1j * nu * np.abs(z)))\n",
    "        u_values.append(u_sum)\n",
    "    return np.array(u_values)"
   ]
  },
  {
   "cell_type": "code",
   "execution_count": 36,
   "id": "b7f4d94c",
   "metadata": {},
   "outputs": [
    {
     "ename": "KeyboardInterrupt",
     "evalue": "",
     "output_type": "error",
     "traceback": [
      "\u001b[0;31m---------------------------------------------------------------------------\u001b[0m",
      "\u001b[0;31mKeyboardInterrupt\u001b[0m                         Traceback (most recent call last)",
      "Cell \u001b[0;32mIn[36], line 1\u001b[0m\n\u001b[0;32m----> 1\u001b[0m u_omega_phi \u001b[38;5;241m=\u001b[39m\u001b[43mphi_values_omega_domain\u001b[49m\u001b[43m(\u001b[49m\u001b[43momegas\u001b[49m\u001b[43m)\u001b[49m\n",
      "Cell \u001b[0;32mIn[35], line 8\u001b[0m, in \u001b[0;36mphi_values_omega_domain\u001b[0;34m(omegas)\u001b[0m\n\u001b[1;32m      6\u001b[0m \u001b[38;5;28;01mfor\u001b[39;00m n \u001b[38;5;129;01min\u001b[39;00m n_range:\n\u001b[1;32m      7\u001b[0m     k \u001b[38;5;241m=\u001b[39m \u001b[38;5;241m2\u001b[39m \u001b[38;5;241m*\u001b[39m n \u001b[38;5;241m*\u001b[39m np\u001b[38;5;241m.\u001b[39mpi \u001b[38;5;241m/\u001b[39m L\n\u001b[0;32m----> 8\u001b[0m     nu \u001b[38;5;241m=\u001b[39m np\u001b[38;5;241m.\u001b[39msqrt((omega \u001b[38;5;241m/\u001b[39m alpha) \u001b[38;5;241m*\u001b[39m\u001b[38;5;241m*\u001b[39m \u001b[38;5;241m2\u001b[39m \u001b[38;5;241m-\u001b[39m k \u001b[38;5;241m*\u001b[39m\u001b[38;5;241m*\u001b[39m \u001b[38;5;241m2\u001b[39m) \u001b[38;5;28;01mif\u001b[39;00m np\u001b[38;5;241m.\u001b[39mimag(\u001b[43mnp\u001b[49m\u001b[38;5;241;43m.\u001b[39;49m\u001b[43msqrt\u001b[49m\u001b[43m(\u001b[49m\u001b[43m(\u001b[49m\u001b[43momega\u001b[49m\u001b[43m \u001b[49m\u001b[38;5;241;43m/\u001b[39;49m\u001b[43m \u001b[49m\u001b[43malpha\u001b[49m\u001b[43m)\u001b[49m\u001b[43m \u001b[49m\u001b[38;5;241;43m*\u001b[39;49m\u001b[38;5;241;43m*\u001b[39;49m\u001b[43m \u001b[49m\u001b[38;5;241;43m2\u001b[39;49m\u001b[43m \u001b[49m\u001b[38;5;241;43m-\u001b[39;49m\u001b[43m \u001b[49m\u001b[43mk\u001b[49m\u001b[43m \u001b[49m\u001b[38;5;241;43m*\u001b[39;49m\u001b[38;5;241;43m*\u001b[39;49m\u001b[43m \u001b[49m\u001b[38;5;241;43m2\u001b[39;49m\u001b[43m)\u001b[49m) \u001b[38;5;241m<\u001b[39m \u001b[38;5;241m0\u001b[39m \u001b[38;5;28;01melse\u001b[39;00m  \u001b[38;5;241m-\u001b[39m\u001b[38;5;241m1\u001b[39m\u001b[38;5;241m*\u001b[39mnp\u001b[38;5;241m.\u001b[39msqrt((omega \u001b[38;5;241m/\u001b[39m alpha) \u001b[38;5;241m*\u001b[39m\u001b[38;5;241m*\u001b[39m \u001b[38;5;241m2\u001b[39m \u001b[38;5;241m-\u001b[39m k \u001b[38;5;241m*\u001b[39m\u001b[38;5;241m*\u001b[39m \u001b[38;5;241m2\u001b[39m)\n\u001b[1;32m      9\u001b[0m     \u001b[38;5;28;01mif\u001b[39;00m(np\u001b[38;5;241m.\u001b[39mimag(nu) \u001b[38;5;241m>\u001b[39m \u001b[38;5;241m0\u001b[39m):\n\u001b[1;32m     10\u001b[0m         \u001b[38;5;28mprint\u001b[39m(\u001b[38;5;124m\"\u001b[39m\u001b[38;5;124mthis is error\u001b[39m\u001b[38;5;124m\"\u001b[39m)\n",
      "\u001b[0;31mKeyboardInterrupt\u001b[0m: "
     ]
    }
   ],
   "source": [
    "u_omega_phi =phi_values_omega_domain(omegas)"
   ]
  },
  {
   "cell_type": "code",
   "execution_count": null,
   "id": "f0dd2bcd",
   "metadata": {},
   "outputs": [],
   "source": [
    "u_omega = u_values_omega_domain(omegas)"
   ]
  },
  {
   "cell_type": "code",
   "execution_count": null,
   "id": "9b30b0bb",
   "metadata": {},
   "outputs": [],
   "source": [
    "# Fourier transform\n",
    "u_t = abs(np.fft.ifft(u_omega)* np.exp(np.abs(omega_imag) * np.array(t)))# Shift the zero frequency to the center of u_omega before the inverse FFT\n",
    "#* np.exp(np.abs(omega_imag) * np.array(range(len(omegas))))#refer to phinney's method"
   ]
  },
  {
   "cell_type": "code",
   "execution_count": null,
   "id": "6df13c3d",
   "metadata": {},
   "outputs": [],
   "source": [
    "u_t_phi = abs(np.fft.ifft(u_omega_phi)* np.exp(np.abs(omega_imag) * np.array(t)))\n",
    "#* np.exp(np.abs(omega_imag) * np.array(range(len(omegas))))"
   ]
  },
  {
   "cell_type": "code",
   "execution_count": null,
   "id": "5b40b6a6",
   "metadata": {},
   "outputs": [],
   "source": [
    "u_t_real = np.real(u_t)\n",
    "plt.xlim(0,10)\n",
    "plt.plot(t, u_t_real)"
   ]
  },
  {
   "cell_type": "code",
   "execution_count": null,
   "id": "6d4c8f1f",
   "metadata": {},
   "outputs": [],
   "source": [
    "u_t_phi_real = np.real(u_t_phi)\n",
    "plt.xlim(0,10)\n",
    "plt.plot(t, u_t_phi_windowed)"
   ]
  },
  {
   "cell_type": "code",
   "execution_count": null,
   "id": "780d9930",
   "metadata": {},
   "outputs": [],
   "source": [
    "y_ifft = \n",
    "\n",
    "Amp = np.abs(y_fft/(N/2)) # 音の大きさ（振幅の大きさ）\n",
    "plt.plot(omegas, Amp) # A-f グラフのプロット\n",
    "plt.show()"
   ]
  },
  {
   "cell_type": "code",
   "execution_count": null,
   "id": "3114faf0",
   "metadata": {},
   "outputs": [],
   "source": [
    "def f_t_values(t):\n",
    "    return 1 / 2 * (1 + np.tanh(t / 0.125))\n",
    "\n",
    "f_t = f_t_values(t)\n",
    "\n",
    "# Compute the convolution integral in the time domain directly\n",
    "conv_integral = np.convolve(f_t, u_t_real, 'same')*dt\n",
    "\n",
    "# Apply Hamming window to u_t\n",
    "window = np.hamming(len(conv_integral))\n",
    "conv_u_t_windowed = np.array(conv_integral) * window\n",
    "\n",
    "# Plotting the convolution integral\n",
    "plt.plot(t, conv_u_t_windowed)\n",
    "plt.xlabel('Time (t)')\n",
    "plt.ylabel('Displacement (u)')\n",
    "plt.title('Convolution Integral in Time Domain')\n",
    "plt.grid(True)\n",
    "plt.xlim(0,10)\n",
    "plt.show()"
   ]
  },
  {
   "cell_type": "code",
   "execution_count": null,
   "id": "929e4c79",
   "metadata": {},
   "outputs": [],
   "source": [
    "def f_t_values(t):\n",
    "    return 1 / 2 * (1 + np.tanh(t / 0.125))\n",
    "\n",
    "f_t = f_t_values(t)\n",
    "\n",
    "# Compute the convolution integral in the time domain directly\n",
    "conv_integral = np.convolve(f_t, u_t_phi_real, 'same')*dt\n",
    "\n",
    "# Apply Hamming window to u_t\n",
    "window = np.hamming(len(conv_integral))\n",
    "conv_u_t_windowed = np.array(conv_integral) * window\n",
    "\n",
    "# Plotting the convolution integral\n",
    "plt.plot(t, conv_u_t_windowed)\n",
    "plt.xlabel('Time (t)')\n",
    "plt.ylabel('Displacement (u)')\n",
    "plt.title('Convolution Integral in Time Domain')\n",
    "plt.grid(True)\n",
    "plt.show()"
   ]
  },
  {
   "cell_type": "code",
   "execution_count": null,
   "id": "ac20d705",
   "metadata": {},
   "outputs": [],
   "source": []
  },
  {
   "cell_type": "code",
   "execution_count": null,
   "id": "102757f7",
   "metadata": {},
   "outputs": [],
   "source": []
  },
  {
   "cell_type": "code",
   "execution_count": null,
   "id": "89387153",
   "metadata": {},
   "outputs": [],
   "source": []
  },
  {
   "cell_type": "code",
   "execution_count": null,
   "id": "cdce736a",
   "metadata": {},
   "outputs": [],
   "source": []
  },
  {
   "cell_type": "code",
   "execution_count": null,
   "id": "b4e58b2c",
   "metadata": {},
   "outputs": [],
   "source": []
  }
 ],
 "metadata": {
  "kernelspec": {
   "display_name": "Python 3 (ipykernel)",
   "language": "python",
   "name": "python3"
  },
  "language_info": {
   "codemirror_mode": {
    "name": "ipython",
    "version": 3
   },
   "file_extension": ".py",
   "mimetype": "text/x-python",
   "name": "python",
   "nbconvert_exporter": "python",
   "pygments_lexer": "ipython3",
   "version": "3.10.9"
  }
 },
 "nbformat": 4,
 "nbformat_minor": 5
}
